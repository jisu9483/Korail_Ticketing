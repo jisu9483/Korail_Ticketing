{
 "cells": [
  {
   "cell_type": "markdown",
   "metadata": {},
   "source": [
    "코레일 기차 예약 매크로"
   ]
  },
  {
   "cell_type": "code",
   "execution_count": 9,
   "metadata": {},
   "outputs": [
    {
     "name": "stdout",
     "output_type": "stream",
     "text": [
      "멤버쉽 ID를 입력해주세요 : 1240386862\n",
      "패스워드를 입력해주세요 : ········\n",
      "출발역 : 포항\n",
      "도착역 : 서울\n",
      "출발일시ex)20201001 : 20200111\n",
      "ex) 20201001 형식과 현재날짜보다 작을수 없습니다. 확인해주세요!\n",
      "출발일시ex)20201001 : 20201016\n",
      "1번째 시도중입니다..\n",
      "기차가 예매 되었습니다. 예약내역을 통해 확인하세요! 결제하시지 않으시면 20분내에 취소됩니다.\n"
     ]
    }
   ],
   "source": [
    "from selenium import webdriver\n",
    "from datetime import datetime, date\n",
    "import getpass\n",
    "import time\n",
    "\n",
    "\n",
    "\n",
    "# 변수 설정\n",
    "count = 1 #시도 횟수\n",
    "now_date = datetime.now().strftime('%Y%m%d') # 오늘 날짜 \n",
    "\n",
    "# 레츠코레일 로그인부터\n",
    "driver = webdriver.Chrome('C:\\chromedriver.exe')\n",
    "driver.get(\"http://www.letskorail.com/korail/com/login.do\")\n",
    "\n",
    "login_true = 1\n",
    "# 로그인 확인\n",
    "while login_true==1:\n",
    "    #ID, PW 작성후 로그인 멤버쉽 로그인만\n",
    "    membership_id = input(\"멤버쉽 ID를 입력해주세요 : \")\n",
    "    pw = getpass.getpass(\"패스워드를 입력해주세요 : \")\n",
    "    \n",
    "    driver.find_element_by_name('txtMember').send_keys(membership_id)\n",
    "    driver.find_element_by_name('txtPwd').send_keys(pw)\n",
    "    time.sleep(0.3)\n",
    "    driver.find_element_by_xpath(\"//img[@src='/images/btn_login.gif']\").click()\n",
    "    try:\n",
    "        alert = driver.switch_to.alert\n",
    "        print(alert.text)\n",
    "        time.sleep(0.3)\n",
    "        alert.accept()\n",
    "    except:\n",
    "        login_true = 0\n",
    "        \n",
    "# 출발역 도착역 확인        \n",
    "print(\"로그인 완료!\")\n",
    "go_start = input(\"출발역 : \")\n",
    "go_end = input(\"도착역 : \")\n",
    "\n",
    "while True:\n",
    "    go_date = input(\"출발일시ex)20201001 : \")\n",
    "    if len(go_date) == 8 and int(go_date) >= int(now_date):\n",
    "        break\n",
    "    else:\n",
    "        print(\"ex) 20201001 형식과 현재날짜보다 작을수 없습니다. 확인해주세요!\")\n",
    "select_year = go_date[0:4]\n",
    "select_month = go_date[4:6] \n",
    "select_day = go_date[6:8]    \n",
    "        \n",
    "\n",
    "driver.get(\"http://www.letskorail.com/ebizprd/EbizPrdTicketpr21100W_pr21110.do\")\n",
    "\n",
    "driver.find_element_by_name('txtGoStart').clear()\n",
    "driver.find_element_by_name('txtGoEnd').clear()\n",
    "driver.find_element_by_name('txtGoStart').send_keys(go_start)\n",
    "driver.find_element_by_name('txtGoEnd').send_keys(go_end)\n",
    "driver.find_element_by_name('selGoYear').send_keys(select_year)\n",
    "driver.find_element_by_name('selGoMonth').send_keys(select_month)\n",
    "driver.find_element_by_name('selGoDay').send_keys(select_day)\n",
    "driver.find_element_by_name('selGoHour').send_keys('12')\n",
    "\n",
    "# 올 매진 일 경우 반복 60초당 한번\n",
    "# 12시 이후 예약걸 수 있는 가장 빠른 시간대에 예약\n",
    "reservation_count = 0\n",
    "while reservation_count == 0:\n",
    "    print(str(count)+\"번째 시도중입니다..\")\n",
    "    driver.find_element_by_xpath(\"//img[@src='/images/btn_inq_tick.gif']\").click()\n",
    "    time.sleep(0.2)\n",
    "    reservation = driver.find_elements_by_xpath(\"//img[contains(@name,'btnRsv1')]\")\n",
    "    reservation_count = len(reservation)\n",
    "    time.sleep(60)\n",
    "    count += 1\n",
    "\n",
    "reservation[0].click()\n",
    "print(\"기차가 예매 되었습니다. 예약내역을 통해 확인하세요! 결제하시지 않으시면 20분내에 취소됩니다.\")\n",
    "driver.quit()\n",
    "\n",
    "\n"
   ]
  },
  {
   "cell_type": "code",
   "execution_count": null,
   "metadata": {},
   "outputs": [],
   "source": []
  }
 ],
 "metadata": {
  "kernelspec": {
   "display_name": "Python 3",
   "language": "python",
   "name": "python3"
  },
  "language_info": {
   "codemirror_mode": {
    "name": "ipython",
    "version": 3
   },
   "file_extension": ".py",
   "mimetype": "text/x-python",
   "name": "python",
   "nbconvert_exporter": "python",
   "pygments_lexer": "ipython3",
   "version": "3.6.9"
  }
 },
 "nbformat": 4,
 "nbformat_minor": 4
}
